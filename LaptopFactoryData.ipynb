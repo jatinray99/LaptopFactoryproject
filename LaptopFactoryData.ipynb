{
  "nbformat": 4,
  "nbformat_minor": 0,
  "metadata": {
    "colab": {
      "provenance": [],
      "mount_file_id": "1RqDaE8yoDX835V3bS9zznF9Tea569By2",
      "authorship_tag": "ABX9TyOWavmQervDM+hNaqeXnaTY",
      "include_colab_link": true
    },
    "kernelspec": {
      "name": "python3",
      "display_name": "Python 3"
    },
    "language_info": {
      "name": "python"
    }
  },
  "cells": [
    {
      "cell_type": "markdown",
      "metadata": {
        "id": "view-in-github",
        "colab_type": "text"
      },
      "source": [
        "<a href=\"https://colab.research.google.com/github/jatinray99/LaptopFactoryproject/blob/main/LaptopFactoryData.ipynb\" target=\"_parent\"><img src=\"https://colab.research.google.com/assets/colab-badge.svg\" alt=\"Open In Colab\"/></a>"
      ]
    },
    {
      "cell_type": "code",
      "execution_count": 1,
      "metadata": {
        "id": "WAc8E7enWHXe"
      },
      "outputs": [],
      "source": [
        "import numpy as np\n",
        "import pandas as pd\n",
        "import matplotlib.pyplot as plt"
      ]
    },
    {
      "cell_type": "code",
      "source": [
        "#Data Loading"
      ],
      "metadata": {
        "id": "ucJ6VgZ9Ojoc"
      },
      "execution_count": 2,
      "outputs": []
    },
    {
      "cell_type": "code",
      "source": [
        "data=pd.read_csv('/content/drive/MyDrive/Colab Notebooks/dataset/mindfactory_updated.csv')\n",
        "data"
      ],
      "metadata": {
        "colab": {
          "base_uri": "https://localhost:8080/",
          "height": 1000
        },
        "id": "ZV0GYQIpWQ-a",
        "outputId": "22b39b3b-3229-42f5-afe8-661ffcfbe0e6"
      },
      "execution_count": 3,
      "outputs": [
        {
          "output_type": "execute_result",
          "data": {
            "text/plain": [
              "                                                  name  price_eur  \\\n",
              "0               Apple MacBook Air M1 256GB, Space grau     912.99   \n",
              "1    MSI Stealth 17 Studio A13VI-013 - Intel Core i...    4680.23   \n",
              "2    MSI Summit E14 FlipEvo A12MT-049 i7-1260P/16GB...    1651.12   \n",
              "3     Gigabyte GBT AORUS 15 9KF-E3DE383SH i5 W11 144Hz    1087.38   \n",
              "4    Fujitsu Lifebook A3511 FHD i3-1115G4 8GB 256GB...     354.97   \n",
              "..                                                 ...        ...   \n",
              "759  Apple Macbook PRO 16 M2 PRO 12C/19C 16GB RAM 5...    2729.64   \n",
              "760  Apple MacBook Air Z15T Apple M2 8C CPU/10C GPU...    2182.57   \n",
              "761  Microsoft Notebook Surface Laptop Go 2 - i5/ 4...     803.79   \n",
              "762  LG Electronics GRAM 16T90Q-G.AP79G i7 W11P FHD...    1447.97   \n",
              "763  Lenovo ThinkPad X13 Yoga / Intel Core i5-1135G...    1187.74   \n",
              "\n",
              "     display_inch  display_cm display_resolution display_ratio  weight_kg  \\\n",
              "0            13.0        33.8          2560x1600          16:9       1.29   \n",
              "1            17.3        43.9          3840x2160          16:9       2.80   \n",
              "2            14.0        35.6          2880x1800           NaN       1.60   \n",
              "3            15.6         NaN                NaN           NaN        NaN   \n",
              "4            15.6        39.6          1920x1080           NaN       1.95   \n",
              "..            ...         ...                ...           ...        ...   \n",
              "759          16.2        41.1          3456x2234           NaN       2.15   \n",
              "760          13.6         NaN                NaN           NaN        NaN   \n",
              "761          12.4        31.5          1536x1024           3:2       1.13   \n",
              "762          16.0        40.6          2560x1600         16:10       1.48   \n",
              "763          13.0         NaN                NaN           NaN        NaN   \n",
              "\n",
              "     height_mm  width_mm  depth_mm  ... keyboard_backlit keyboard_numpad  \\\n",
              "0         16.1     304.1     212.4  ...             True           False   \n",
              "1         20.1     397.6     283.5  ...             True            True   \n",
              "2         17.9     314.0     227.5  ...             True           False   \n",
              "3          NaN       NaN       NaN  ...            False           False   \n",
              "4         23.9     361.0     244.0  ...            False            True   \n",
              "..         ...       ...       ...  ...              ...             ...   \n",
              "759       16.8     355.7     248.1  ...             True           False   \n",
              "760        NaN       NaN       NaN  ...            False           False   \n",
              "761       15.7     278.2     206.2  ...             True           False   \n",
              "762       16.9     356.6     248.3  ...             True            True   \n",
              "763        NaN       NaN       NaN  ...            False           False   \n",
              "\n",
              "     has_webcam has_bluetooth bluetooth_version        wifi_standard  \\\n",
              "0          True          True               5.0   Wi-Fi 6 (802.11ax)   \n",
              "1          True          True               5.3  Wi-Fi 6E (802.11ax)   \n",
              "2          True          True               5.2  Wi-Fi 6E (802.11ax)   \n",
              "3         False         False               NaN                  NaN   \n",
              "4          True          True               5.1  Wi-Fi 6E (802.11ax)   \n",
              "..          ...           ...               ...                  ...   \n",
              "759        True          True               5.3  Wi-Fi 6E (802.11ax)   \n",
              "760       False         False               NaN                  NaN   \n",
              "761        True          True               5.1   Wi-Fi 6 (802.11ax)   \n",
              "762        True          True               5.1  Wi-Fi 6E (802.11ax)   \n",
              "763       False         False               NaN                  NaN   \n",
              "\n",
              "      product_ean             product_sku  release_year   category  \n",
              "0    1.942521e+11                MGN63D/A        2020.0  Notebooks  \n",
              "1    4.711377e+12              0017P2-013           NaN  Notebooks  \n",
              "2    4.719073e+12              0014F1-049           NaN  Notebooks  \n",
              "3    4.719332e+12  AORUS 15 9KF-E3DE383SH           NaN  Notebooks  \n",
              "4    4.065221e+12              FPC04902BS           NaN  Notebooks  \n",
              "..            ...                     ...           ...        ...  \n",
              "759  1.942533e+11                MNW83D/A        2023.0  Notebooks  \n",
              "760  4.066582e+12      MLXX3D/A-Z08762971           NaN  Notebooks  \n",
              "761  8.898429e+11               L1D-00005           NaN  Notebooks  \n",
              "762  8.806092e+12          16T90Q-G.AP79G           NaN  Notebooks  \n",
              "763  1.963791e+11    20W8S06U00?ABVERKAUF           NaN  Notebooks  \n",
              "\n",
              "[764 rows x 33 columns]"
            ],
            "text/html": [
              "\n",
              "  <div id=\"df-6cfbebf8-392d-4a7c-91ab-0109be8f023c\" class=\"colab-df-container\">\n",
              "    <div>\n",
              "<style scoped>\n",
              "    .dataframe tbody tr th:only-of-type {\n",
              "        vertical-align: middle;\n",
              "    }\n",
              "\n",
              "    .dataframe tbody tr th {\n",
              "        vertical-align: top;\n",
              "    }\n",
              "\n",
              "    .dataframe thead th {\n",
              "        text-align: right;\n",
              "    }\n",
              "</style>\n",
              "<table border=\"1\" class=\"dataframe\">\n",
              "  <thead>\n",
              "    <tr style=\"text-align: right;\">\n",
              "      <th></th>\n",
              "      <th>name</th>\n",
              "      <th>price_eur</th>\n",
              "      <th>display_inch</th>\n",
              "      <th>display_cm</th>\n",
              "      <th>display_resolution</th>\n",
              "      <th>display_ratio</th>\n",
              "      <th>weight_kg</th>\n",
              "      <th>height_mm</th>\n",
              "      <th>width_mm</th>\n",
              "      <th>depth_mm</th>\n",
              "      <th>...</th>\n",
              "      <th>keyboard_backlit</th>\n",
              "      <th>keyboard_numpad</th>\n",
              "      <th>has_webcam</th>\n",
              "      <th>has_bluetooth</th>\n",
              "      <th>bluetooth_version</th>\n",
              "      <th>wifi_standard</th>\n",
              "      <th>product_ean</th>\n",
              "      <th>product_sku</th>\n",
              "      <th>release_year</th>\n",
              "      <th>category</th>\n",
              "    </tr>\n",
              "  </thead>\n",
              "  <tbody>\n",
              "    <tr>\n",
              "      <th>0</th>\n",
              "      <td>Apple MacBook Air M1 256GB, Space grau</td>\n",
              "      <td>912.99</td>\n",
              "      <td>13.0</td>\n",
              "      <td>33.8</td>\n",
              "      <td>2560x1600</td>\n",
              "      <td>16:9</td>\n",
              "      <td>1.29</td>\n",
              "      <td>16.1</td>\n",
              "      <td>304.1</td>\n",
              "      <td>212.4</td>\n",
              "      <td>...</td>\n",
              "      <td>True</td>\n",
              "      <td>False</td>\n",
              "      <td>True</td>\n",
              "      <td>True</td>\n",
              "      <td>5.0</td>\n",
              "      <td>Wi-Fi 6 (802.11ax)</td>\n",
              "      <td>1.942521e+11</td>\n",
              "      <td>MGN63D/A</td>\n",
              "      <td>2020.0</td>\n",
              "      <td>Notebooks</td>\n",
              "    </tr>\n",
              "    <tr>\n",
              "      <th>1</th>\n",
              "      <td>MSI Stealth 17 Studio A13VI-013 - Intel Core i...</td>\n",
              "      <td>4680.23</td>\n",
              "      <td>17.3</td>\n",
              "      <td>43.9</td>\n",
              "      <td>3840x2160</td>\n",
              "      <td>16:9</td>\n",
              "      <td>2.80</td>\n",
              "      <td>20.1</td>\n",
              "      <td>397.6</td>\n",
              "      <td>283.5</td>\n",
              "      <td>...</td>\n",
              "      <td>True</td>\n",
              "      <td>True</td>\n",
              "      <td>True</td>\n",
              "      <td>True</td>\n",
              "      <td>5.3</td>\n",
              "      <td>Wi-Fi 6E (802.11ax)</td>\n",
              "      <td>4.711377e+12</td>\n",
              "      <td>0017P2-013</td>\n",
              "      <td>NaN</td>\n",
              "      <td>Notebooks</td>\n",
              "    </tr>\n",
              "    <tr>\n",
              "      <th>2</th>\n",
              "      <td>MSI Summit E14 FlipEvo A12MT-049 i7-1260P/16GB...</td>\n",
              "      <td>1651.12</td>\n",
              "      <td>14.0</td>\n",
              "      <td>35.6</td>\n",
              "      <td>2880x1800</td>\n",
              "      <td>NaN</td>\n",
              "      <td>1.60</td>\n",
              "      <td>17.9</td>\n",
              "      <td>314.0</td>\n",
              "      <td>227.5</td>\n",
              "      <td>...</td>\n",
              "      <td>True</td>\n",
              "      <td>False</td>\n",
              "      <td>True</td>\n",
              "      <td>True</td>\n",
              "      <td>5.2</td>\n",
              "      <td>Wi-Fi 6E (802.11ax)</td>\n",
              "      <td>4.719073e+12</td>\n",
              "      <td>0014F1-049</td>\n",
              "      <td>NaN</td>\n",
              "      <td>Notebooks</td>\n",
              "    </tr>\n",
              "    <tr>\n",
              "      <th>3</th>\n",
              "      <td>Gigabyte GBT AORUS 15 9KF-E3DE383SH i5 W11 144Hz</td>\n",
              "      <td>1087.38</td>\n",
              "      <td>15.6</td>\n",
              "      <td>NaN</td>\n",
              "      <td>NaN</td>\n",
              "      <td>NaN</td>\n",
              "      <td>NaN</td>\n",
              "      <td>NaN</td>\n",
              "      <td>NaN</td>\n",
              "      <td>NaN</td>\n",
              "      <td>...</td>\n",
              "      <td>False</td>\n",
              "      <td>False</td>\n",
              "      <td>False</td>\n",
              "      <td>False</td>\n",
              "      <td>NaN</td>\n",
              "      <td>NaN</td>\n",
              "      <td>4.719332e+12</td>\n",
              "      <td>AORUS 15 9KF-E3DE383SH</td>\n",
              "      <td>NaN</td>\n",
              "      <td>Notebooks</td>\n",
              "    </tr>\n",
              "    <tr>\n",
              "      <th>4</th>\n",
              "      <td>Fujitsu Lifebook A3511 FHD i3-1115G4 8GB 256GB...</td>\n",
              "      <td>354.97</td>\n",
              "      <td>15.6</td>\n",
              "      <td>39.6</td>\n",
              "      <td>1920x1080</td>\n",
              "      <td>NaN</td>\n",
              "      <td>1.95</td>\n",
              "      <td>23.9</td>\n",
              "      <td>361.0</td>\n",
              "      <td>244.0</td>\n",
              "      <td>...</td>\n",
              "      <td>False</td>\n",
              "      <td>True</td>\n",
              "      <td>True</td>\n",
              "      <td>True</td>\n",
              "      <td>5.1</td>\n",
              "      <td>Wi-Fi 6E (802.11ax)</td>\n",
              "      <td>4.065221e+12</td>\n",
              "      <td>FPC04902BS</td>\n",
              "      <td>NaN</td>\n",
              "      <td>Notebooks</td>\n",
              "    </tr>\n",
              "    <tr>\n",
              "      <th>...</th>\n",
              "      <td>...</td>\n",
              "      <td>...</td>\n",
              "      <td>...</td>\n",
              "      <td>...</td>\n",
              "      <td>...</td>\n",
              "      <td>...</td>\n",
              "      <td>...</td>\n",
              "      <td>...</td>\n",
              "      <td>...</td>\n",
              "      <td>...</td>\n",
              "      <td>...</td>\n",
              "      <td>...</td>\n",
              "      <td>...</td>\n",
              "      <td>...</td>\n",
              "      <td>...</td>\n",
              "      <td>...</td>\n",
              "      <td>...</td>\n",
              "      <td>...</td>\n",
              "      <td>...</td>\n",
              "      <td>...</td>\n",
              "      <td>...</td>\n",
              "    </tr>\n",
              "    <tr>\n",
              "      <th>759</th>\n",
              "      <td>Apple Macbook PRO 16 M2 PRO 12C/19C 16GB RAM 5...</td>\n",
              "      <td>2729.64</td>\n",
              "      <td>16.2</td>\n",
              "      <td>41.1</td>\n",
              "      <td>3456x2234</td>\n",
              "      <td>NaN</td>\n",
              "      <td>2.15</td>\n",
              "      <td>16.8</td>\n",
              "      <td>355.7</td>\n",
              "      <td>248.1</td>\n",
              "      <td>...</td>\n",
              "      <td>True</td>\n",
              "      <td>False</td>\n",
              "      <td>True</td>\n",
              "      <td>True</td>\n",
              "      <td>5.3</td>\n",
              "      <td>Wi-Fi 6E (802.11ax)</td>\n",
              "      <td>1.942533e+11</td>\n",
              "      <td>MNW83D/A</td>\n",
              "      <td>2023.0</td>\n",
              "      <td>Notebooks</td>\n",
              "    </tr>\n",
              "    <tr>\n",
              "      <th>760</th>\n",
              "      <td>Apple MacBook Air Z15T Apple M2 8C CPU/10C GPU...</td>\n",
              "      <td>2182.57</td>\n",
              "      <td>13.6</td>\n",
              "      <td>NaN</td>\n",
              "      <td>NaN</td>\n",
              "      <td>NaN</td>\n",
              "      <td>NaN</td>\n",
              "      <td>NaN</td>\n",
              "      <td>NaN</td>\n",
              "      <td>NaN</td>\n",
              "      <td>...</td>\n",
              "      <td>False</td>\n",
              "      <td>False</td>\n",
              "      <td>False</td>\n",
              "      <td>False</td>\n",
              "      <td>NaN</td>\n",
              "      <td>NaN</td>\n",
              "      <td>4.066582e+12</td>\n",
              "      <td>MLXX3D/A-Z08762971</td>\n",
              "      <td>NaN</td>\n",
              "      <td>Notebooks</td>\n",
              "    </tr>\n",
              "    <tr>\n",
              "      <th>761</th>\n",
              "      <td>Microsoft Notebook Surface Laptop Go 2 - i5/ 4...</td>\n",
              "      <td>803.79</td>\n",
              "      <td>12.4</td>\n",
              "      <td>31.5</td>\n",
              "      <td>1536x1024</td>\n",
              "      <td>3:2</td>\n",
              "      <td>1.13</td>\n",
              "      <td>15.7</td>\n",
              "      <td>278.2</td>\n",
              "      <td>206.2</td>\n",
              "      <td>...</td>\n",
              "      <td>True</td>\n",
              "      <td>False</td>\n",
              "      <td>True</td>\n",
              "      <td>True</td>\n",
              "      <td>5.1</td>\n",
              "      <td>Wi-Fi 6 (802.11ax)</td>\n",
              "      <td>8.898429e+11</td>\n",
              "      <td>L1D-00005</td>\n",
              "      <td>NaN</td>\n",
              "      <td>Notebooks</td>\n",
              "    </tr>\n",
              "    <tr>\n",
              "      <th>762</th>\n",
              "      <td>LG Electronics GRAM 16T90Q-G.AP79G i7 W11P FHD...</td>\n",
              "      <td>1447.97</td>\n",
              "      <td>16.0</td>\n",
              "      <td>40.6</td>\n",
              "      <td>2560x1600</td>\n",
              "      <td>16:10</td>\n",
              "      <td>1.48</td>\n",
              "      <td>16.9</td>\n",
              "      <td>356.6</td>\n",
              "      <td>248.3</td>\n",
              "      <td>...</td>\n",
              "      <td>True</td>\n",
              "      <td>True</td>\n",
              "      <td>True</td>\n",
              "      <td>True</td>\n",
              "      <td>5.1</td>\n",
              "      <td>Wi-Fi 6E (802.11ax)</td>\n",
              "      <td>8.806092e+12</td>\n",
              "      <td>16T90Q-G.AP79G</td>\n",
              "      <td>NaN</td>\n",
              "      <td>Notebooks</td>\n",
              "    </tr>\n",
              "    <tr>\n",
              "      <th>763</th>\n",
              "      <td>Lenovo ThinkPad X13 Yoga / Intel Core i5-1135G...</td>\n",
              "      <td>1187.74</td>\n",
              "      <td>13.0</td>\n",
              "      <td>NaN</td>\n",
              "      <td>NaN</td>\n",
              "      <td>NaN</td>\n",
              "      <td>NaN</td>\n",
              "      <td>NaN</td>\n",
              "      <td>NaN</td>\n",
              "      <td>NaN</td>\n",
              "      <td>...</td>\n",
              "      <td>False</td>\n",
              "      <td>False</td>\n",
              "      <td>False</td>\n",
              "      <td>False</td>\n",
              "      <td>NaN</td>\n",
              "      <td>NaN</td>\n",
              "      <td>1.963791e+11</td>\n",
              "      <td>20W8S06U00?ABVERKAUF</td>\n",
              "      <td>NaN</td>\n",
              "      <td>Notebooks</td>\n",
              "    </tr>\n",
              "  </tbody>\n",
              "</table>\n",
              "<p>764 rows × 33 columns</p>\n",
              "</div>\n",
              "    <div class=\"colab-df-buttons\">\n",
              "\n",
              "  <div class=\"colab-df-container\">\n",
              "    <button class=\"colab-df-convert\" onclick=\"convertToInteractive('df-6cfbebf8-392d-4a7c-91ab-0109be8f023c')\"\n",
              "            title=\"Convert this dataframe to an interactive table.\"\n",
              "            style=\"display:none;\">\n",
              "\n",
              "  <svg xmlns=\"http://www.w3.org/2000/svg\" height=\"24px\" viewBox=\"0 -960 960 960\">\n",
              "    <path d=\"M120-120v-720h720v720H120Zm60-500h600v-160H180v160Zm220 220h160v-160H400v160Zm0 220h160v-160H400v160ZM180-400h160v-160H180v160Zm440 0h160v-160H620v160ZM180-180h160v-160H180v160Zm440 0h160v-160H620v160Z\"/>\n",
              "  </svg>\n",
              "    </button>\n",
              "\n",
              "  <style>\n",
              "    .colab-df-container {\n",
              "      display:flex;\n",
              "      gap: 12px;\n",
              "    }\n",
              "\n",
              "    .colab-df-convert {\n",
              "      background-color: #E8F0FE;\n",
              "      border: none;\n",
              "      border-radius: 50%;\n",
              "      cursor: pointer;\n",
              "      display: none;\n",
              "      fill: #1967D2;\n",
              "      height: 32px;\n",
              "      padding: 0 0 0 0;\n",
              "      width: 32px;\n",
              "    }\n",
              "\n",
              "    .colab-df-convert:hover {\n",
              "      background-color: #E2EBFA;\n",
              "      box-shadow: 0px 1px 2px rgba(60, 64, 67, 0.3), 0px 1px 3px 1px rgba(60, 64, 67, 0.15);\n",
              "      fill: #174EA6;\n",
              "    }\n",
              "\n",
              "    .colab-df-buttons div {\n",
              "      margin-bottom: 4px;\n",
              "    }\n",
              "\n",
              "    [theme=dark] .colab-df-convert {\n",
              "      background-color: #3B4455;\n",
              "      fill: #D2E3FC;\n",
              "    }\n",
              "\n",
              "    [theme=dark] .colab-df-convert:hover {\n",
              "      background-color: #434B5C;\n",
              "      box-shadow: 0px 1px 3px 1px rgba(0, 0, 0, 0.15);\n",
              "      filter: drop-shadow(0px 1px 2px rgba(0, 0, 0, 0.3));\n",
              "      fill: #FFFFFF;\n",
              "    }\n",
              "  </style>\n",
              "\n",
              "    <script>\n",
              "      const buttonEl =\n",
              "        document.querySelector('#df-6cfbebf8-392d-4a7c-91ab-0109be8f023c button.colab-df-convert');\n",
              "      buttonEl.style.display =\n",
              "        google.colab.kernel.accessAllowed ? 'block' : 'none';\n",
              "\n",
              "      async function convertToInteractive(key) {\n",
              "        const element = document.querySelector('#df-6cfbebf8-392d-4a7c-91ab-0109be8f023c');\n",
              "        const dataTable =\n",
              "          await google.colab.kernel.invokeFunction('convertToInteractive',\n",
              "                                                    [key], {});\n",
              "        if (!dataTable) return;\n",
              "\n",
              "        const docLinkHtml = 'Like what you see? Visit the ' +\n",
              "          '<a target=\"_blank\" href=https://colab.research.google.com/notebooks/data_table.ipynb>data table notebook</a>'\n",
              "          + ' to learn more about interactive tables.';\n",
              "        element.innerHTML = '';\n",
              "        dataTable['output_type'] = 'display_data';\n",
              "        await google.colab.output.renderOutput(dataTable, element);\n",
              "        const docLink = document.createElement('div');\n",
              "        docLink.innerHTML = docLinkHtml;\n",
              "        element.appendChild(docLink);\n",
              "      }\n",
              "    </script>\n",
              "  </div>\n",
              "\n",
              "\n",
              "<div id=\"df-d40cf588-670c-422a-9c51-5cad9f02ebe4\">\n",
              "  <button class=\"colab-df-quickchart\" onclick=\"quickchart('df-d40cf588-670c-422a-9c51-5cad9f02ebe4')\"\n",
              "            title=\"Suggest charts\"\n",
              "            style=\"display:none;\">\n",
              "\n",
              "<svg xmlns=\"http://www.w3.org/2000/svg\" height=\"24px\"viewBox=\"0 0 24 24\"\n",
              "     width=\"24px\">\n",
              "    <g>\n",
              "        <path d=\"M19 3H5c-1.1 0-2 .9-2 2v14c0 1.1.9 2 2 2h14c1.1 0 2-.9 2-2V5c0-1.1-.9-2-2-2zM9 17H7v-7h2v7zm4 0h-2V7h2v10zm4 0h-2v-4h2v4z\"/>\n",
              "    </g>\n",
              "</svg>\n",
              "  </button>\n",
              "\n",
              "<style>\n",
              "  .colab-df-quickchart {\n",
              "      --bg-color: #E8F0FE;\n",
              "      --fill-color: #1967D2;\n",
              "      --hover-bg-color: #E2EBFA;\n",
              "      --hover-fill-color: #174EA6;\n",
              "      --disabled-fill-color: #AAA;\n",
              "      --disabled-bg-color: #DDD;\n",
              "  }\n",
              "\n",
              "  [theme=dark] .colab-df-quickchart {\n",
              "      --bg-color: #3B4455;\n",
              "      --fill-color: #D2E3FC;\n",
              "      --hover-bg-color: #434B5C;\n",
              "      --hover-fill-color: #FFFFFF;\n",
              "      --disabled-bg-color: #3B4455;\n",
              "      --disabled-fill-color: #666;\n",
              "  }\n",
              "\n",
              "  .colab-df-quickchart {\n",
              "    background-color: var(--bg-color);\n",
              "    border: none;\n",
              "    border-radius: 50%;\n",
              "    cursor: pointer;\n",
              "    display: none;\n",
              "    fill: var(--fill-color);\n",
              "    height: 32px;\n",
              "    padding: 0;\n",
              "    width: 32px;\n",
              "  }\n",
              "\n",
              "  .colab-df-quickchart:hover {\n",
              "    background-color: var(--hover-bg-color);\n",
              "    box-shadow: 0 1px 2px rgba(60, 64, 67, 0.3), 0 1px 3px 1px rgba(60, 64, 67, 0.15);\n",
              "    fill: var(--button-hover-fill-color);\n",
              "  }\n",
              "\n",
              "  .colab-df-quickchart-complete:disabled,\n",
              "  .colab-df-quickchart-complete:disabled:hover {\n",
              "    background-color: var(--disabled-bg-color);\n",
              "    fill: var(--disabled-fill-color);\n",
              "    box-shadow: none;\n",
              "  }\n",
              "\n",
              "  .colab-df-spinner {\n",
              "    border: 2px solid var(--fill-color);\n",
              "    border-color: transparent;\n",
              "    border-bottom-color: var(--fill-color);\n",
              "    animation:\n",
              "      spin 1s steps(1) infinite;\n",
              "  }\n",
              "\n",
              "  @keyframes spin {\n",
              "    0% {\n",
              "      border-color: transparent;\n",
              "      border-bottom-color: var(--fill-color);\n",
              "      border-left-color: var(--fill-color);\n",
              "    }\n",
              "    20% {\n",
              "      border-color: transparent;\n",
              "      border-left-color: var(--fill-color);\n",
              "      border-top-color: var(--fill-color);\n",
              "    }\n",
              "    30% {\n",
              "      border-color: transparent;\n",
              "      border-left-color: var(--fill-color);\n",
              "      border-top-color: var(--fill-color);\n",
              "      border-right-color: var(--fill-color);\n",
              "    }\n",
              "    40% {\n",
              "      border-color: transparent;\n",
              "      border-right-color: var(--fill-color);\n",
              "      border-top-color: var(--fill-color);\n",
              "    }\n",
              "    60% {\n",
              "      border-color: transparent;\n",
              "      border-right-color: var(--fill-color);\n",
              "    }\n",
              "    80% {\n",
              "      border-color: transparent;\n",
              "      border-right-color: var(--fill-color);\n",
              "      border-bottom-color: var(--fill-color);\n",
              "    }\n",
              "    90% {\n",
              "      border-color: transparent;\n",
              "      border-bottom-color: var(--fill-color);\n",
              "    }\n",
              "  }\n",
              "</style>\n",
              "\n",
              "  <script>\n",
              "    async function quickchart(key) {\n",
              "      const quickchartButtonEl =\n",
              "        document.querySelector('#' + key + ' button');\n",
              "      quickchartButtonEl.disabled = true;  // To prevent multiple clicks.\n",
              "      quickchartButtonEl.classList.add('colab-df-spinner');\n",
              "      try {\n",
              "        const charts = await google.colab.kernel.invokeFunction(\n",
              "            'suggestCharts', [key], {});\n",
              "      } catch (error) {\n",
              "        console.error('Error during call to suggestCharts:', error);\n",
              "      }\n",
              "      quickchartButtonEl.classList.remove('colab-df-spinner');\n",
              "      quickchartButtonEl.classList.add('colab-df-quickchart-complete');\n",
              "    }\n",
              "    (() => {\n",
              "      let quickchartButtonEl =\n",
              "        document.querySelector('#df-d40cf588-670c-422a-9c51-5cad9f02ebe4 button');\n",
              "      quickchartButtonEl.style.display =\n",
              "        google.colab.kernel.accessAllowed ? 'block' : 'none';\n",
              "    })();\n",
              "  </script>\n",
              "</div>\n",
              "    </div>\n",
              "  </div>\n"
            ]
          },
          "metadata": {},
          "execution_count": 3
        }
      ]
    },
    {
      "cell_type": "code",
      "source": [
        "#Visulaing the data in scatter plot"
      ],
      "metadata": {
        "id": "WC9pQKMdOtQ4"
      },
      "execution_count": 4,
      "outputs": []
    },
    {
      "cell_type": "code",
      "source": [
        "import pandas as pd\n",
        "import matplotlib.pyplot as plt\n",
        "\n",
        "# Assuming your DataFrame is named 'data'\n",
        "# Choose two numerical columns for the scatter plot, for example, 'price_eur' and 'display_inch'\n",
        "selected_columns = ['price_eur', 'display_inch']\n",
        "\n",
        "# Drop rows with missing values in the selected columns\n",
        "data_selected = data[selected_columns].dropna()\n",
        "\n",
        "# Plot the data\n",
        "plt.scatter(data_selected['price_eur'], data_selected['display_inch'], c='white', edgecolor='black', marker='o', s=50)\n",
        "plt.xlabel('Price (EUR)')\n",
        "plt.ylabel('Display Size (inch)')\n",
        "plt.title('Scatter Plot of Price vs Display Size')\n",
        "plt.show()\n"
      ],
      "metadata": {
        "colab": {
          "base_uri": "https://localhost:8080/",
          "height": 472
        },
        "id": "eka7Mmb3XKQX",
        "outputId": "dc6c36cc-c526-4b13-d8ad-c3ebc56036f6"
      },
      "execution_count": 5,
      "outputs": [
        {
          "output_type": "display_data",
          "data": {
            "text/plain": [
              "<Figure size 640x480 with 1 Axes>"
            ],
            "image/png": "[encoded data removed]"
          },
          "metadata": {}
        }
      ]
    },
    {
      "cell_type": "code",
      "source": [
        "#Data Cleaning"
      ],
      "metadata": {
        "id": "RunCp87zOyjH"
      },
      "execution_count": 6,
      "outputs": []
    },
    {
      "cell_type": "code",
      "source": [
        "x = data.iloc[:, 2]\n",
        "y=data.iloc[:,1]\n",
        "x\n",
        "data.dropna()\n",
        "x.dropna()\n",
        "y.dropna()"
      ],
      "metadata": {
        "colab": {
          "base_uri": "https://localhost:8080/"
        },
        "id": "hW9hCJQXZFBN",
        "outputId": "3b0b2680-70df-4ec1-c4c4-148331049c2b"
      },
      "execution_count": 7,
      "outputs": [
        {
          "output_type": "execute_result",
          "data": {
            "text/plain": [
              "0       912.99\n",
              "1      4680.23\n",
              "2      1651.12\n",
              "3      1087.38\n",
              "4       354.97\n",
              "        ...   \n",
              "759    2729.64\n",
              "760    2182.57\n",
              "761     803.79\n",
              "762    1447.97\n",
              "763    1187.74\n",
              "Name: price_eur, Length: 764, dtype: float64"
            ]
          },
          "metadata": {},
          "execution_count": 7
        }
      ]
    },
    {
      "cell_type": "code",
      "source": [
        "#Data Preprocessing"
      ],
      "metadata": {
        "id": "o3tNOSjoPB3w"
      },
      "execution_count": 8,
      "outputs": []
    },
    {
      "cell_type": "code",
      "source": [
        "from sklearn.impute import SimpleImputer\n",
        "import numpy as np\n",
        "\n",
        "#  you can impute the missing values\n",
        "# Use 'mean' or 'median' strategy based on your preference\n",
        "imputer = SimpleImputer(strategy='median')\n",
        "\n",
        "# Convert the Series to a NumPy array and reshape if it's 1D\n",
        "if x.ndim == 1:\n",
        "    x = x.values.reshape(-1, 1)\n",
        "\n",
        "x_imputed = imputer.fit_transform(x)"
      ],
      "metadata": {
        "id": "6C77lGJZcNov"
      },
      "execution_count": 9,
      "outputs": []
    },
    {
      "cell_type": "code",
      "source": [
        "#KMeans Clustering"
      ],
      "metadata": {
        "id": "UUf4_NjNNKC5"
      },
      "execution_count": 10,
      "outputs": []
    },
    {
      "cell_type": "code",
      "source": [
        "# Now, apply KMeans clustering\n",
        "from sklearn.cluster import KMeans\n",
        "km = KMeans(n_clusters=3, init='random', max_iter=100, n_init=10)\n",
        "y_km = km.fit_predict(x_imputed)"
      ],
      "metadata": {
        "id": "Lz1k5CYWNH-9"
      },
      "execution_count": 11,
      "outputs": []
    },
    {
      "cell_type": "code",
      "source": [
        "import matplotlib.pyplot as plt\n",
        "\n",
        "# Scatter plot for Cluster 1\n",
        "plt.scatter(x[y_km == 0], x[y_km == 0], s=50, c='green', marker='s', edgecolor='black', label='Cluster 1')\n",
        "\n",
        "# Scatter plot for Cluster 2\n",
        "plt.scatter(x[y_km == 1], x[y_km == 1],s=50, c='orange', marker='o', edgecolor='black', label='Cluster 2')\n",
        "\n",
        "# Scatter plot for Cluster 3\n",
        "plt.scatter(x[y_km == 2], x[y_km == 2],s=50, c='blue', marker='>', edgecolor='black', label='Cluster 3')\n",
        "\n",
        "# Scatter plot for Centroids\n",
        "plt.scatter(km.cluster_centers_[:, 0], km.cluster_centers_[:, 0],s=100, c='red', marker='*', edgecolor='black', label='Centroid')\n",
        "\n",
        "plt.legend()\n",
        "plt.xlabel('display_inch')\n",
        "plt.ylabel('price_eur')\n",
        "plt.title('KMeans Clustering')\n",
        "plt.show()\n"
      ],
      "metadata": {
        "colab": {
          "base_uri": "https://localhost:8080/",
          "height": 472
        },
        "id": "Yj745hO-c654",
        "outputId": "f7834e0f-6346-4480-c004-3eb89f4ab8d0"
      },
      "execution_count": 12,
      "outputs": [
        {
          "output_type": "display_data",
          "data": {
            "text/plain": [
              "<Figure size 640x480 with 1 Axes>"
            ],
            "image/png": "[encoded data removed]"
          },
          "metadata": {}
        }
      ]
    },
    {
      "cell_type": "code",
      "source": [
        "print(x.shape, y_km.shape)"
      ],
      "metadata": {
        "colab": {
          "base_uri": "https://localhost:8080/"
        },
        "id": "nRELNHjJdWo1",
        "outputId": "31b43e53-2295-4d2c-b980-f6ff00369fe4"
      },
      "execution_count": 13,
      "outputs": [
        {
          "output_type": "stream",
          "name": "stdout",
          "text": [
            "(764, 1) (764,)\n"
          ]
        }
      ]
    },
    {
      "cell_type": "code",
      "source": [
        "#DBSCAN"
      ],
      "metadata": {
        "id": "xI92LwDbM1Un"
      },
      "execution_count": 14,
      "outputs": []
    },
    {
      "cell_type": "code",
      "source": [
        "from sklearn.cluster import DBSCAN\n",
        "from sklearn.preprocessing import StandardScaler\n",
        "\n",
        "# Assuming 'x_imputed' is your data after imputation and KMeans clustering\n",
        "# Use StandardScaler to standardize the data for DBSCAN\n",
        "scaler = StandardScaler()\n",
        "x_scaled = scaler.fit_transform(x_imputed)\n",
        "\n",
        "# Apply DBSCAN\n",
        "dbscan = DBSCAN(eps=0.5, min_samples=5)\n",
        "y_dbscan = dbscan.fit_predict(x_scaled)\n",
        "\n",
        "# Visualize the results\n",
        "plt.scatter(x_scaled[:, 0], x_scaled[:, 0], c=y_dbscan, cmap='viridis', marker='o', s=50, edgecolor='black')\n",
        "plt.title('DBSCAN Clustering ')\n",
        "plt.xlabel('display_inch)')\n",
        "plt.ylabel('price_eur')\n",
        "plt.show()\n"
      ],
      "metadata": {
        "colab": {
          "base_uri": "https://localhost:8080/",
          "height": 472
        },
        "id": "2KguWLPIZ0SG",
        "outputId": "1bb3ffd0-89d8-4355-ff35-8d2b1b64d0ae"
      },
      "execution_count": 15,
      "outputs": [
        {
          "output_type": "display_data",
          "data": {
            "text/plain": [
              "<Figure size 640x480 with 1 Axes>"
            ],
            "image/png": "[encoded data removed]"
          },
          "metadata": {}
        }
      ]
    },
    {
      "cell_type": "code",
      "source": [
        "#Linear Regression"
      ],
      "metadata": {
        "id": "omzkUATuPdWK"
      },
      "execution_count": 16,
      "outputs": []
    },
    {
      "cell_type": "code",
      "source": [
        "import numpy as np\n",
        "from sklearn.model_selection import train_test_split\n",
        "from sklearn.linear_model import LinearRegression\n",
        "from sklearn.impute import SimpleImputer\n",
        "from sklearn.metrics import mean_squared_error, r2_score\n",
        "\n",
        "# Assuming 'x' and 'y' are your input features and target variable\n",
        "x_train, x_test, y_train, y_test = train_test_split(x, y, test_size=0.3, random_state=0)\n",
        "\n",
        "# Reshape the data to 2D arrays\n",
        "x_train_2d = np.array(x_train).reshape(-1, 1)\n",
        "x_test_2d = np.array(x_test).reshape(-1, 1)"
      ],
      "metadata": {
        "id": "S3PfTJYnazU2"
      },
      "execution_count": 17,
      "outputs": []
    },
    {
      "cell_type": "code",
      "source": [
        "# Impute missing values in input features\n",
        "imputer_x = SimpleImputer(strategy='median')\n",
        "x_train_imputed = imputer_x.fit_transform(x_train_2d)\n",
        "x_test_imputed = imputer_x.transform(x_test_2d)\n",
        "\n",
        "# Impute missing values in target variable\n",
        "imputer_y = SimpleImputer(strategy='median')\n",
        "y_train_imputed = imputer_y.fit_transform(np.array(y_train).reshape(-1, 1))\n",
        "y_test_imputed = imputer_y.transform(np.array(y_test).reshape(-1, 1))"
      ],
      "metadata": {
        "id": "BuHLYH8sPlp_"
      },
      "execution_count": 18,
      "outputs": []
    },
    {
      "cell_type": "code",
      "source": [
        "# Create and fit the model\n",
        "model = LinearRegression()\n",
        "model.fit(x_train_imputed, y_train_imputed)\n"
      ],
      "metadata": {
        "colab": {
          "base_uri": "https://localhost:8080/",
          "height": 74
        },
        "id": "vTk7MhwpL57H",
        "outputId": "d57ec3a6-ce4e-4851-d6f9-f92b9d6b1268"
      },
      "execution_count": 19,
      "outputs": [
        {
          "output_type": "execute_result",
          "data": {
            "text/plain": [
              "LinearRegression()"
            ],
            "text/html": [
              "<style>#sk-container-id-1 {color: black;background-color: white;}#sk-container-id-1 pre{padding: 0;}#sk-container-id-1 div.sk-toggleable {background-color: white;}#sk-container-id-1 label.sk-toggleable__label {cursor: pointer;display: block;width: 100%;margin-bottom: 0;padding: 0.3em;box-sizing: border-box;text-align: center;}#sk-container-id-1 label.sk-toggleable__label-arrow:before {content: \"▸\";float: left;margin-right: 0.25em;color: #696969;}#sk-container-id-1 label.sk-toggleable__label-arrow:hover:before {color: black;}#sk-container-id-1 div.sk-estimator:hover label.sk-toggleable__label-arrow:before {color: black;}#sk-container-id-1 div.sk-toggleable__content {max-height: 0;max-width: 0;overflow: hidden;text-align: left;background-color: #f0f8ff;}#sk-container-id-1 div.sk-toggleable__content pre {margin: 0.2em;color: black;border-radius: 0.25em;background-color: #f0f8ff;}#sk-container-id-1 input.sk-toggleable__control:checked~div.sk-toggleable__content {max-height: 200px;max-width: 100%;overflow: auto;}#sk-container-id-1 input.sk-toggleable__control:checked~label.sk-toggleable__label-arrow:before {content: \"▾\";}#sk-container-id-1 div.sk-estimator input.sk-toggleable__control:checked~label.sk-toggleable__label {background-color: #d4ebff;}#sk-container-id-1 div.sk-label input.sk-toggleable__control:checked~label.sk-toggleable__label {background-color: #d4ebff;}#sk-container-id-1 input.sk-hidden--visually {border: 0;clip: rect(1px 1px 1px 1px);clip: rect(1px, 1px, 1px, 1px);height: 1px;margin: -1px;overflow: hidden;padding: 0;position: absolute;width: 1px;}#sk-container-id-1 div.sk-estimator {font-family: monospace;background-color: #f0f8ff;border: 1px dotted black;border-radius: 0.25em;box-sizing: border-box;margin-bottom: 0.5em;}#sk-container-id-1 div.sk-estimator:hover {background-color: #d4ebff;}#sk-container-id-1 div.sk-parallel-item::after {content: \"\";width: 100%;border-bottom: 1px solid gray;flex-grow: 1;}#sk-container-id-1 div.sk-label:hover label.sk-toggleable__label {background-color: #d4ebff;}#sk-container-id-1 div.sk-serial::before {content: \"\";position: absolute;border-left: 1px solid gray;box-sizing: border-box;top: 0;bottom: 0;left: 50%;z-index: 0;}#sk-container-id-1 div.sk-serial {display: flex;flex-direction: column;align-items: center;background-color: white;padding-right: 0.2em;padding-left: 0.2em;position: relative;}#sk-container-id-1 div.sk-item {position: relative;z-index: 1;}#sk-container-id-1 div.sk-parallel {display: flex;align-items: stretch;justify-content: center;background-color: white;position: relative;}#sk-container-id-1 div.sk-item::before, #sk-container-id-1 div.sk-parallel-item::before {content: \"\";position: absolute;border-left: 1px solid gray;box-sizing: border-box;top: 0;bottom: 0;left: 50%;z-index: -1;}#sk-container-id-1 div.sk-parallel-item {display: flex;flex-direction: column;z-index: 1;position: relative;background-color: white;}#sk-container-id-1 div.sk-parallel-item:first-child::after {align-self: flex-end;width: 50%;}#sk-container-id-1 div.sk-parallel-item:last-child::after {align-self: flex-start;width: 50%;}#sk-container-id-1 div.sk-parallel-item:only-child::after {width: 0;}#sk-container-id-1 div.sk-dashed-wrapped {border: 1px dashed gray;margin: 0 0.4em 0.5em 0.4em;box-sizing: border-box;padding-bottom: 0.4em;background-color: white;}#sk-container-id-1 div.sk-label label {font-family: monospace;font-weight: bold;display: inline-block;line-height: 1.2em;}#sk-container-id-1 div.sk-label-container {text-align: center;}#sk-container-id-1 div.sk-container {/* jupyter's `normalize.less` sets `[hidden] { display: none; }` but bootstrap.min.css set `[hidden] { display: none !important; }` so we also need the `!important` here to be able to override the default hidden behavior on the sphinx rendered scikit-learn.org. See: https://github.com/scikit-learn/scikit-learn/issues/21755 */display: inline-block !important;position: relative;}#sk-container-id-1 div.sk-text-repr-fallback {display: none;}</style><div id=\"sk-container-id-1\" class=\"sk-top-container\"><div class=\"sk-text-repr-fallback\"><pre>LinearRegression()</pre><b>In a Jupyter environment, please rerun this cell to show the HTML representation or trust the notebook. <br />On GitHub, the HTML representation is unable to render, please try loading this page with nbviewer.org.</b></div><div class=\"sk-container\" hidden><div class=\"sk-item\"><div class=\"sk-estimator sk-toggleable\"><input class=\"sk-toggleable__control sk-hidden--visually\" id=\"sk-estimator-id-1\" type=\"checkbox\" checked><label for=\"sk-estimator-id-1\" class=\"sk-toggleable__label sk-toggleable__label-arrow\">LinearRegression</label><div class=\"sk-toggleable__content\"><pre>LinearRegression()</pre></div></div></div></div></div>"
            ]
          },
          "metadata": {},
          "execution_count": 19
        }
      ]
    },
    {
      "cell_type": "code",
      "source": [
        "# Make predictions\n",
        "y_pred = model.predict(x_test_imputed)\n",
        "\n",
        "# Evaluate the model\n",
        "mse = mean_squared_error(y_test_imputed, y_pred)\n",
        "r2 = r2_score(y_test_imputed, y_pred)\n",
        "\n",
        "print(f\"Mean Squared Error: {mse}\")\n",
        "print(f\"R^2 Score: {r2}\")"
      ],
      "metadata": {
        "colab": {
          "base_uri": "https://localhost:8080/"
        },
        "id": "73w0BVRHMAgz",
        "outputId": "ee9004ce-94dd-46af-800b-3d8f4a96d067"
      },
      "execution_count": 20,
      "outputs": [
        {
          "output_type": "stream",
          "name": "stdout",
          "text": [
            "Mean Squared Error: 1029048.8914561595\n",
            "R^2 Score: -0.006316823777867908\n"
          ]
        }
      ]
    },
    {
      "cell_type": "code",
      "source": [
        "import matplotlib.pyplot as plt\n",
        "\n",
        "# Assuming x_test is your test set\n",
        "plt.scatter(x_test, y_test_imputed, label='Data')\n",
        "plt.plot(x_test, y_pred, label='Regression', c='r', lw=2)\n",
        "plt.legend()\n",
        "plt.xlabel('price_eur')\n",
        "plt.ylabel('display_inch')\n",
        "plt.title('Linear Regression')\n",
        "plt.show()\n"
      ],
      "metadata": {
        "colab": {
          "base_uri": "https://localhost:8080/",
          "height": 472
        },
        "id": "Y1pTq6p2e8Tl",
        "outputId": "57cec9ca-b7ca-4020-e4c9-24c6eec89140"
      },
      "execution_count": 21,
      "outputs": [
        {
          "output_type": "display_data",
          "data": {
            "text/plain": [
              "<Figure size 640x480 with 1 Axes>"
            ],
            "image/png": "[encoded data removed]"
          },
          "metadata": {}
        }
      ]
    }
  ]
}